{
 "cells": [
  {
   "cell_type": "markdown",
   "id": "pretty-disposal",
   "metadata": {},
   "source": [
    "# Life Tables"
   ]
  },
  {
   "cell_type": "markdown",
   "id": "behind-coating",
   "metadata": {},
   "source": [
    "### Import Packages"
   ]
  },
  {
   "cell_type": "code",
   "execution_count": 1,
   "id": "whole-finger",
   "metadata": {},
   "outputs": [],
   "source": [
    "#!conda install -c anaconda xlrd"
   ]
  },
  {
   "cell_type": "code",
   "execution_count": 2,
   "id": "greenhouse-envelope",
   "metadata": {},
   "outputs": [],
   "source": [
    "import os\n",
    "import imageio\n",
    "import pandas as pd\n",
    "import numpy as np\n",
    "import matplotlib.pyplot as plt"
   ]
  },
  {
   "cell_type": "markdown",
   "id": "orange-chain",
   "metadata": {},
   "source": [
    "### Download"
   ]
  },
  {
   "cell_type": "code",
   "execution_count": 3,
   "id": "laughing-stevens",
   "metadata": {},
   "outputs": [],
   "source": [
    "# 2015 VBT\n",
    "#!wget 'https://www.soa.org/globalassets/assets/files/research/exp-study/2015-vbt-unismoke-alb-anb.xlsx'\n",
    "#!wget 'https://www.soa.org/globalassets/assets/files/research/exp-study/2015-vbt-smoker-distinct-alb-anb.xlsx'\n",
    "\n",
    "# 2008 VBT    \n",
    "#!wget 'https://www.soa.org/globalassets/assets/files/zip/research-2008-vbt-report-app-c.zip'\n",
    "#!unzip research-2008-vbt-report-app-c.zip\n",
    "   \n",
    "# 2001 tables    \n",
    "#!wget 'https://www.soa.org/globalassets/assets/files/research/valuationbasicmortalitytable.zip'\n",
    "#!unzip valuationbasicmortalitytable.zip"
   ]
  },
  {
   "cell_type": "markdown",
   "id": "extra-journalist",
   "metadata": {},
   "source": [
    "### Data Cleanup"
   ]
  },
  {
   "cell_type": "markdown",
   "id": "eligible-trace",
   "metadata": {},
   "source": [
    "#### 2015 VBT"
   ]
  },
  {
   "cell_type": "markdown",
   "id": "historical-lexington",
   "metadata": {},
   "source": [
    "Unismoke"
   ]
  },
  {
   "cell_type": "code",
   "execution_count": 4,
   "id": "applied-steal",
   "metadata": {},
   "outputs": [],
   "source": [
    "file = '2015-vbt-unismoke-alb-anb.xlsx'\n",
    "\n",
    "df_m_2015 = pd.read_excel(file, sheet_name = '2015 Male Unismoke ANB', skiprows=2)\n",
    "df_m_2015 = df_m_2015[list(set(df_m_2015.columns) - set(['Ult.','Att. Age']))]\n",
    "df_m_2015 = df_m_2015.melt(id_vars = ['Iss. Age'], value_name='Mortality Rate per 1,000', var_name='Duration')\n",
    "\n",
    "df_f_2015 = pd.read_excel(file, sheet_name = '2015 Female Unismoke ANB', skiprows=2)\n",
    "df_f_2015 = df_f_2015[list(set(df_f_2015.columns) - set(['Ult.','Att. Age']))]\n",
    "df_f_2015 = df_f_2015.melt(id_vars = ['Iss. Age'], value_name='Mortality Rate per 1,000', var_name='Duration')"
   ]
  },
  {
   "cell_type": "markdown",
   "id": "central-induction",
   "metadata": {},
   "source": [
    "Smoker Distinct"
   ]
  },
  {
   "cell_type": "code",
   "execution_count": 5,
   "id": "sustained-remark",
   "metadata": {},
   "outputs": [],
   "source": [
    "file = '2015-vbt-smoker-distinct-alb-anb.xlsx'\n",
    "\n",
    "df_m_2015_ns = pd.read_excel(file, sheet_name = '2015 MNS ANB', skiprows=2)\n",
    "df_m_2015_ns = df_m_2015_ns[list(set(df_m_2015_ns.columns) - set(['Ult.','Att. Age']))]\n",
    "df_m_2015_ns = df_m_2015_ns.melt(id_vars = ['Iss. Age'], value_name='Mortality Rate per 1,000', var_name='Duration')\n",
    "\n",
    "df_m_2015_sm = pd.read_excel(file, sheet_name = '2015 MSM ANB', skiprows=2)\n",
    "df_m_2015_sm = df_m_2015_sm[list(set(df_m_2015_sm.columns) - set(['Ult.','Att. Age']))]\n",
    "df_m_2015_sm = df_m_2015_sm.melt(id_vars = ['Iss. Age'], value_name='Mortality Rate per 1,000', var_name='Duration')\n",
    "\n",
    "\n",
    "df_f_2015_ns = pd.read_excel(file, sheet_name = '2015 FNS ANB', skiprows=2)\n",
    "df_f_2015_ns = df_f_2015_ns[list(set(df_f_2015_ns.columns) - set(['Ult.','Att. Age']))]\n",
    "df_f_2015_ns = df_f_2015_ns.melt(id_vars = ['Iss. Age'], value_name='Mortality Rate per 1,000', var_name='Duration')\n",
    "\n",
    "df_f_2015_sm = pd.read_excel(file, sheet_name = '2015 FSM ANB', skiprows=2)\n",
    "df_f_2015_sm = df_f_2015_sm[list(set(df_f_2015_sm.columns) - set(['Ult.','Att. Age']))]\n",
    "df_f_2015_sm = df_f_2015_sm.melt(id_vars = ['Iss. Age'], value_name='Mortality Rate per 1,000', var_name='Duration')"
   ]
  },
  {
   "cell_type": "markdown",
   "id": "palestinian-baltimore",
   "metadata": {},
   "source": [
    "#### 2008 VBT"
   ]
  },
  {
   "cell_type": "markdown",
   "id": "tropical-masters",
   "metadata": {},
   "source": [
    "Smoker Distinct"
   ]
  },
  {
   "cell_type": "code",
   "execution_count": 6,
   "id": "social-syracuse",
   "metadata": {},
   "outputs": [],
   "source": [
    "file = 'App C - 2008 VBT Primary Tables 2008 12_w Sm Unk.xls'\n",
    "\n",
    "df_m_2008_ns = pd.read_excel(file, sheet_name = 'Male NS ANB', skiprows=3).drop(0,0)\n",
    "df_m_2008_ns = df_m_2008_ns[list(set(df_m_2008_ns.columns) - set(['Ultimate','Age.1']))]\n",
    "df_m_2008_ns = df_m_2008_ns.melt(id_vars = ['Age'], value_name='Mortality Rate per 1,000', var_name='Duration')\n",
    "\n",
    "df_m_2008_sm = pd.read_excel(file, sheet_name = 'Male SM ANB', skiprows=3).drop(0,0)\n",
    "df_m_2008_sm = df_m_2008_sm[list(set(df_m_2008_sm.columns) - set(['Ultimate','Age.1']))]\n",
    "df_m_2008_sm = df_m_2008_sm.melt(id_vars = ['Age'], value_name='Mortality Rate per 1,000', var_name='Duration')\n",
    "\n",
    "df_f_2008_ns = pd.read_excel(file, sheet_name = 'Female NS ANB', skiprows=3).drop(0,0)\n",
    "df_f_2008_ns = df_f_2008_ns[list(set(df_f_2008_ns.columns) - set(['Ultimate','Age.1']))]\n",
    "df_f_2008_ns = df_f_2008_ns.melt(id_vars = ['Age'], value_name='Mortality Rate per 1,000', var_name='Duration')\n",
    "\n",
    "df_f_2008_sm = pd.read_excel(file, sheet_name = 'Female SM ANB', skiprows=3).drop(0,0)\n",
    "df_f_2008_sm = df_f_2008_sm[list(set(df_f_2008_sm.columns) - set(['Ultimate','Age.1']))]\n",
    "df_f_2008_sm = df_f_2008_sm.melt(id_vars = ['Age'], value_name='Mortality Rate per 1,000', var_name='Duration')"
   ]
  },
  {
   "cell_type": "markdown",
   "id": "tired-communication",
   "metadata": {},
   "source": [
    "### Graph"
   ]
  },
  {
   "cell_type": "code",
   "execution_count": 7,
   "id": "spiritual-safety",
   "metadata": {},
   "outputs": [],
   "source": [
    "def plotInteractions(x1_col, y1_col, z1_col, filt_col1, dur_col1,\n",
    "                     x2_col, y2_col, z2_col, filt_col2, dur_col2,\n",
    "                     azim=130, alpha=0.9, elev=10, outfile='test.jpg',\n",
    "                     low_top_right=0, high_top_right=100,\n",
    "                     low_bot_left=0, high_bot_left=100,\n",
    "                     low_bot_right=0, high_bot_right=100,\n",
    "                     dur_low=0, dur_high=50, maj_title=\"Test Title\"):\n",
    "\n",
    "    fig = plt.figure(constrained_layout=True, figsize=(16,10))\n",
    "    fig.suptitle(maj_title, fontsize=16)\n",
    "    gs = fig.add_gridspec(2,2)\n",
    "\n",
    "    #-------------------------------------------------------\n",
    "    ax = fig.add_subplot(gs[0,0], projection='3d')\n",
    "    ax.set_title(\"All Ages and Durations\")\n",
    "    ax.set_xlabel(x1_col.name)\n",
    "    ax.set_ylabel(y1_col.name)\n",
    "    ax.set_zlabel(z1_col.name)\n",
    "    ax.plot_trisurf(x1_col,  y1_col, z1_col, cmap='Reds', alpha=alpha)\n",
    "    ax.plot_trisurf(x2_col,  y2_col, z2_col, cmap='Blues', alpha=alpha)\n",
    "    ax.view_init(elev=elev, azim=azim) # Default: elev=None, azim=None\n",
    "    \n",
    "    #--------------------------------------------------------\n",
    "    low=low_top_right\n",
    "    high=high_top_right\n",
    "    ax = fig.add_subplot(gs[0,1], projection='3d')\n",
    "    \n",
    "    x1 = x1_col[(filt_col1 >= low) & (filt_col1 <= high) & (dur_col1 >= dur_low) & (dur_col1 <=dur_high)]\n",
    "    y1 = y1_col[(filt_col1 >= low) & (filt_col1 <= high) & (dur_col1 >= dur_low) & (dur_col1 <=dur_high)]\n",
    "    z1 = z1_col[(filt_col1 >= low) & (filt_col1 <= high) & (dur_col1 >= dur_low) & (dur_col1 <=dur_high)]\n",
    "    \n",
    "    x2 = x2_col[(filt_col2 >= low) & (filt_col2 <= high) & (dur_col2 >= dur_low) & (dur_col2 <=dur_high)]\n",
    "    y2 = y2_col[(filt_col2 >= low) & (filt_col2 <= high) & (dur_col2 >= dur_low) & (dur_col2 <=dur_high)]\n",
    "    z2 = z2_col[(filt_col2 >= low) & (filt_col2 <= high) & (dur_col2 >= dur_low) & (dur_col2 <=dur_high)]\n",
    "    \n",
    "    ax.set_title(\n",
    "        filt_col1.name + \" between \" + str(low) + \" and \" + str(high-1) +\n",
    "        \"\\n Duration between \" + str(dur_low) + \" and \" + str(dur_high)\n",
    "    )\n",
    "    ax.set_xlabel(x1_col.name)\n",
    "    ax.set_ylabel(y1_col.name)\n",
    "    ax.set_zlabel(z1_col.name)\n",
    "    ax.plot_trisurf(x1,  y1, z1, cmap='Reds', alpha=alpha)\n",
    "    ax.plot_trisurf(x2,  y2, z2, cmap='Blues', alpha=alpha)\n",
    "    ax.view_init(elev=elev, azim=azim) # Default: elev=None, azim=None\n",
    "    \n",
    "    #--------------------------------------------------------\n",
    "    low=low_bot_left\n",
    "    high=high_bot_left\n",
    "    ax = fig.add_subplot(gs[1,0], projection='3d')\n",
    "    \n",
    "    x1 = x1_col[(filt_col1 >= low) & (filt_col1 <= high) & (dur_col1 >= dur_low) & (dur_col1 <=dur_high)]\n",
    "    y1 = y1_col[(filt_col1 >= low) & (filt_col1 <= high) & (dur_col1 >= dur_low) & (dur_col1 <=dur_high)]\n",
    "    z1 = z1_col[(filt_col1 >= low) & (filt_col1 <= high) & (dur_col1 >= dur_low) & (dur_col1 <=dur_high)]\n",
    "    \n",
    "    x2 = x2_col[(filt_col2 >= low) & (filt_col2 <= high) & (dur_col2 >= dur_low) & (dur_col2 <=dur_high)]\n",
    "    y2 = y2_col[(filt_col2 >= low) & (filt_col2 <= high) & (dur_col2 >= dur_low) & (dur_col2 <=dur_high)]\n",
    "    z2 = z2_col[(filt_col2 >= low) & (filt_col2 <= high) & (dur_col2 >= dur_low) & (dur_col2 <=dur_high)]\n",
    "    \n",
    "    ax.set_title(\n",
    "        filt_col1.name + \" between \" + str(low) + \" and \" + str(high-1) +\n",
    "        \"\\n Duration between \" + str(dur_low) + \" and \" + str(dur_high)\n",
    "    )\n",
    "    ax.set_xlabel(x1_col.name)\n",
    "    ax.set_ylabel(y1_col.name)\n",
    "    ax.set_zlabel(z1_col.name)\n",
    "    ax.plot_trisurf(x1,  y1, z1, cmap='Reds', alpha=alpha)\n",
    "    ax.plot_trisurf(x2,  y2, z2, cmap='Blues', alpha=alpha)\n",
    "    ax.view_init(elev=elev, azim=azim) # Default: elev=None, azim=None\n",
    "    \n",
    "     #--------------------------------------------------------\n",
    "    low=low_bot_right\n",
    "    high=high_bot_right\n",
    "    ax = fig.add_subplot(gs[1,1], projection='3d')\n",
    "    \n",
    "    x1 = x1_col[(filt_col1 >= low) & (filt_col1 <= high) & (dur_col1 >= dur_low) & (dur_col1 <=dur_high)]\n",
    "    y1 = y1_col[(filt_col1 >= low) & (filt_col1 <= high) & (dur_col1 >= dur_low) & (dur_col1 <=dur_high)]\n",
    "    z1 = z1_col[(filt_col1 >= low) & (filt_col1 <= high) & (dur_col1 >= dur_low) & (dur_col1 <=dur_high)]\n",
    "    \n",
    "    x2 = x2_col[(filt_col2 >= low) & (filt_col2 <= high) & (dur_col2 >= dur_low) & (dur_col2 <=dur_high)]\n",
    "    y2 = y2_col[(filt_col2 >= low) & (filt_col2 <= high) & (dur_col2 >= dur_low) & (dur_col2 <=dur_high)]\n",
    "    z2 = z2_col[(filt_col2 >= low) & (filt_col2 <= high) & (dur_col2 >= dur_low) & (dur_col2 <=dur_high)]\n",
    "    \n",
    "    ax.set_title(\n",
    "        filt_col1.name + \" between \" + str(low) + \" and \" + str(high-1) +\n",
    "        \"\\n Duration between \" + str(dur_low) + \" and \" + str(dur_high)\n",
    "    )\n",
    "    ax.set_xlabel(x1_col.name)\n",
    "    ax.set_ylabel(y1_col.name)\n",
    "    ax.set_zlabel(z1_col.name)\n",
    "    ax.plot_trisurf(x1,  y1, z1, cmap='Reds', alpha=alpha)\n",
    "    ax.plot_trisurf(x2,  y2, z2, cmap='Blues', alpha=alpha)\n",
    "    ax.view_init(elev=elev, azim=azim) # Default: elev=None, azim=None\n",
    "   \n",
    "\n",
    "\n",
    "    #--------------------------------------------------------\n",
    "    fig.savefig(outfile , dpi=50)\n",
    "    plt.close(fig)"
   ]
  },
  {
   "cell_type": "markdown",
   "id": "designing-virgin",
   "metadata": {},
   "source": [
    "Test plot (test.jpg)"
   ]
  },
  {
   "cell_type": "code",
   "execution_count": 8,
   "id": "expanded-lying",
   "metadata": {},
   "outputs": [],
   "source": [
    "plotInteractions(\n",
    "    df_m_2015['Iss. Age'], df_m_2015['Duration'], df_m_2015['Mortality Rate per 1,000'], df_m_2015['Iss. Age'],df_m_2015['Duration'],\n",
    "    df_f_2015['Iss. Age'], df_f_2015['Duration'], df_f_2015['Mortality Rate per 1,000'], df_f_2015['Iss. Age'],df_f_2015['Duration'],\n",
    "    low_top_right=60, high_top_right=81, \n",
    "    low_bot_left=40, high_bot_left=61,\n",
    "    low_bot_right=0, high_bot_right=41, dur_low=0, dur_high=6, azim=-80\n",
    ")"
   ]
  },
  {
   "cell_type": "markdown",
   "id": "earlier-hazard",
   "metadata": {},
   "source": [
    "### Static Images"
   ]
  },
  {
   "cell_type": "markdown",
   "id": "cordless-simulation",
   "metadata": {},
   "source": [
    "2015 VBT Unismoke - Men and Women"
   ]
  },
  {
   "cell_type": "code",
   "execution_count": 27,
   "id": "flexible-genius",
   "metadata": {},
   "outputs": [],
   "source": [
    "plotInteractions(\n",
    "    df_m_2015['Iss. Age'], df_m_2015['Duration'], df_m_2015['Mortality Rate per 1,000'], df_m_2015['Iss. Age'],df_m_2015['Duration'],\n",
    "    df_f_2015['Iss. Age'], df_f_2015['Duration'], df_f_2015['Mortality Rate per 1,000'], df_f_2015['Iss. Age'],df_f_2015['Duration'],\n",
    "    low_top_right=60, high_top_right=81, \n",
    "    low_bot_left=40, high_bot_left=61,\n",
    "    low_bot_right=18, high_bot_right=41, dur_low=0, dur_high=6, azim=-80, outfile='img/img1.jpg',\n",
    "    maj_title=\"Unismoke Men (Red) and Women (Blue)\"\n",
    ")"
   ]
  },
  {
   "cell_type": "markdown",
   "id": "psychological-vatican",
   "metadata": {},
   "source": [
    "2015 VBT Smoker Distinct - Non Smokers - Men and Women"
   ]
  },
  {
   "cell_type": "code",
   "execution_count": 28,
   "id": "silver-distance",
   "metadata": {},
   "outputs": [],
   "source": [
    "plotInteractions(\n",
    "    df_m_2015_ns['Iss. Age'], df_m_2015_ns['Duration'], df_m_2015_ns['Mortality Rate per 1,000'], df_m_2015_ns['Iss. Age'],df_m_2015_ns['Duration'],\n",
    "    df_f_2015_ns['Iss. Age'], df_f_2015_ns['Duration'], df_f_2015_ns['Mortality Rate per 1,000'], df_f_2015_ns['Iss. Age'],df_f_2015_ns['Duration'],\n",
    "    low_top_right=60, high_top_right=81, \n",
    "    low_bot_left=40, high_bot_left=61,\n",
    "    low_bot_right=18, high_bot_right=41, dur_low=0, dur_high=6, azim=-80, outfile='img/img2.jpg',\n",
    "    maj_title=\"Non-Smokers Men (Red) and Women (Blue)\"\n",
    ")"
   ]
  },
  {
   "cell_type": "markdown",
   "id": "actual-medicine",
   "metadata": {},
   "source": [
    "2015 VBT Smoker Distinct - Smokers - Men and Women"
   ]
  },
  {
   "cell_type": "code",
   "execution_count": 29,
   "id": "advance-herald",
   "metadata": {},
   "outputs": [],
   "source": [
    "plotInteractions(\n",
    "    df_m_2015_sm['Iss. Age'], df_m_2015_sm['Duration'], df_m_2015_sm['Mortality Rate per 1,000'], df_m_2015_sm['Iss. Age'],df_m_2015_sm['Duration'],\n",
    "    df_f_2015_sm['Iss. Age'], df_f_2015_sm['Duration'], df_f_2015_sm['Mortality Rate per 1,000'], df_f_2015_sm['Iss. Age'],df_f_2015_sm['Duration'],\n",
    "    low_top_right=60, high_top_right=81, \n",
    "    low_bot_left=40, high_bot_left=61,\n",
    "    low_bot_right=18, high_bot_right=41, dur_low=0, dur_high=6, azim=-80, outfile='img/img3.jpg',\n",
    "    maj_title=\"Smokers Men (Red) and Women (Blue)\"\n",
    ")"
   ]
  },
  {
   "cell_type": "markdown",
   "id": "judicial-tanzania",
   "metadata": {},
   "source": [
    "2015 VBT Smoker Distinct - Men - NS and SM"
   ]
  },
  {
   "cell_type": "code",
   "execution_count": 30,
   "id": "threaded-large",
   "metadata": {},
   "outputs": [],
   "source": [
    "plotInteractions(\n",
    "    df_m_2015_ns['Iss. Age'], df_m_2015_ns['Duration'], df_m_2015_ns['Mortality Rate per 1,000'], df_m_2015_ns['Iss. Age'],df_m_2015_ns['Duration'],\n",
    "    df_m_2015_sm['Iss. Age'], df_m_2015_sm['Duration'], df_m_2015_sm['Mortality Rate per 1,000'], df_m_2015_sm['Iss. Age'],df_m_2015_sm['Duration'],\n",
    "    low_top_right=60, high_top_right=81, \n",
    "    low_bot_left=40, high_bot_left=61,\n",
    "    low_bot_right=18, high_bot_right=41, dur_low=0, dur_high=6, azim=-80, outfile='img/img4.jpg',\n",
    "    maj_title=\"Men: Smokers (Blue) and Non-Smokers (Red)\"\n",
    ")"
   ]
  },
  {
   "cell_type": "markdown",
   "id": "brown-channels",
   "metadata": {},
   "source": [
    "2015 VBT Smoker Distinct - Women - NS and SM"
   ]
  },
  {
   "cell_type": "code",
   "execution_count": 31,
   "id": "tough-category",
   "metadata": {},
   "outputs": [],
   "source": [
    "plotInteractions(\n",
    "    df_f_2015_ns['Iss. Age'], df_f_2015_ns['Duration'], df_f_2015_ns['Mortality Rate per 1,000'], df_f_2015_ns['Iss. Age'],df_f_2015_ns['Duration'],\n",
    "    df_f_2015_sm['Iss. Age'], df_f_2015_sm['Duration'], df_f_2015_sm['Mortality Rate per 1,000'], df_f_2015_sm['Iss. Age'],df_f_2015_sm['Duration'],\n",
    "    low_top_right=60, high_top_right=81, \n",
    "    low_bot_left=40, high_bot_left=61,\n",
    "    low_bot_right=18, high_bot_right=41, dur_low=0, dur_high=6, azim=-80, outfile='img/img5.jpg',\n",
    "    maj_title=\"Women: Smokers (Blue) and Non-Smokers (Red)\"\n",
    ")"
   ]
  },
  {
   "cell_type": "markdown",
   "id": "vocational-practice",
   "metadata": {},
   "source": [
    "### Create Images for Gifs"
   ]
  },
  {
   "cell_type": "code",
   "execution_count": 14,
   "id": "narrative-teddy",
   "metadata": {},
   "outputs": [],
   "source": [
    "def createImages(x1_col, y1_col, z1_col, filt_col1, dur_col1,\n",
    "                 x2_col, y2_col, z2_col, filt_col2, dur_col2,\n",
    "                 low_top_right=0, high_top_right=100,\n",
    "                 low_bot_left=0, high_bot_left=100,\n",
    "                 low_bot_right=0, high_bot_right=100,\n",
    "                 dur_low=0, dur_high=10,\n",
    "                 folder='img', testmode=False, azim_list=[130], alpha=0.9, elev=None,\n",
    "                maj_title=\"test\"):\n",
    "    i=0\n",
    "    for azim in azim_list:\n",
    "        outfile = folder +'/'+ str(i) + '_img.jpg'\n",
    "        plotInteractions(x1_col, y1_col, z1_col, filt_col1, dur_col1,\n",
    "                         x2_col, y2_col, z2_col, filt_col2, dur_col2,\n",
    "                        \n",
    "                         low_top_right=low_top_right, high_top_right=high_top_right,\n",
    "                         low_bot_left=low_bot_left, high_bot_left=high_bot_left,\n",
    "                         low_bot_right=low_bot_right, high_bot_right=high_bot_right,\n",
    "                         \n",
    "                         dur_low=dur_low, dur_high=dur_high,\n",
    "                         \n",
    "                         azim=azim, alpha=alpha, elev=10, outfile=outfile, maj_title=maj_title)\n",
    "        \n",
    "        i+=1\n",
    "        if testmode:\n",
    "            break\n",
    "    return"
   ]
  },
  {
   "cell_type": "markdown",
   "id": "severe-building",
   "metadata": {},
   "source": [
    "#### 2015 VBT Unismoke - Men and Women"
   ]
  },
  {
   "cell_type": "code",
   "execution_count": 15,
   "id": "ultimate-experiment",
   "metadata": {},
   "outputs": [],
   "source": [
    "azim_list = np.arange(-180, 185, 5).tolist()"
   ]
  },
  {
   "cell_type": "code",
   "execution_count": 16,
   "id": "nervous-security",
   "metadata": {},
   "outputs": [],
   "source": [
    "createImages(\n",
    "    df_m_2015['Iss. Age'], df_m_2015['Duration'], df_m_2015['Mortality Rate per 1,000'], df_m_2015['Iss. Age'], df_m_2015['Duration'],\n",
    "    df_f_2015['Iss. Age'], df_f_2015['Duration'], df_f_2015['Mortality Rate per 1,000'], df_f_2015['Iss. Age'], df_f_2015['Duration'],\n",
    "    low_top_right=60, high_top_right=81, \n",
    "    low_bot_left=40, high_bot_left=61,\n",
    "    low_bot_right=18, high_bot_right=41, \n",
    "    dur_low=0, dur_high=6,\n",
    "    azim_list=azim_list,\n",
    "    alpha=1,\n",
    "    folder='img1',\n",
    "    maj_title=\"Unismoke Men (Red) and Women (Blue)\"\n",
    ")"
   ]
  },
  {
   "cell_type": "markdown",
   "id": "internal-scanning",
   "metadata": {},
   "source": [
    "#### 2015 VBT Smoker Distinct - Non Smokers - Men and Women"
   ]
  },
  {
   "cell_type": "code",
   "execution_count": 17,
   "id": "included-caution",
   "metadata": {},
   "outputs": [],
   "source": [
    "createImages(\n",
    "    df_m_2015_ns['Iss. Age'], df_m_2015_ns['Duration'], df_m_2015_ns['Mortality Rate per 1,000'], df_m_2015_ns['Iss. Age'],df_m_2015_ns['Duration'],\n",
    "    df_f_2015_ns['Iss. Age'], df_f_2015_ns['Duration'], df_f_2015_ns['Mortality Rate per 1,000'], df_f_2015_ns['Iss. Age'],df_f_2015_ns['Duration'],\n",
    "    low_top_right=60, high_top_right=81, \n",
    "    low_bot_left=40, high_bot_left=61,\n",
    "    low_bot_right=10, high_bot_right=41, \n",
    "    dur_low=0, dur_high=6,\n",
    "    azim_list=azim_list,\n",
    "    alpha=1,\n",
    "    folder='img2',\n",
    "    maj_title=\"Non-Smokers Men (Red) and Women (Blue)\"\n",
    ")"
   ]
  },
  {
   "cell_type": "markdown",
   "id": "ignored-doctor",
   "metadata": {},
   "source": [
    "#### 2015 VBT Smoker Distinct - Smokers - Men and Women"
   ]
  },
  {
   "cell_type": "code",
   "execution_count": 18,
   "id": "selective-draft",
   "metadata": {},
   "outputs": [],
   "source": [
    "createImages(\n",
    "    df_m_2015_sm['Iss. Age'], df_m_2015_sm['Duration'], df_m_2015_sm['Mortality Rate per 1,000'], df_m_2015_sm['Iss. Age'],df_m_2015_sm['Duration'],\n",
    "    df_f_2015_sm['Iss. Age'], df_f_2015_sm['Duration'], df_f_2015_sm['Mortality Rate per 1,000'], df_f_2015_sm['Iss. Age'],df_f_2015_sm['Duration'],\n",
    "    low_top_right=60, high_top_right=81, \n",
    "    low_bot_left=40, high_bot_left=61,\n",
    "    low_bot_right=18, high_bot_right=41, \n",
    "    dur_low=0, dur_high=6,\n",
    "    azim_list=azim_list,\n",
    "    alpha=1,\n",
    "    folder='img3',\n",
    "    maj_title=\"Smokers Men (Red) and Women (Blue)\"\n",
    ")"
   ]
  },
  {
   "cell_type": "markdown",
   "id": "clear-decimal",
   "metadata": {},
   "source": [
    "#### 2015 VBT Smoker Distinct - Men - NS and SM"
   ]
  },
  {
   "cell_type": "code",
   "execution_count": 19,
   "id": "offensive-geography",
   "metadata": {},
   "outputs": [],
   "source": [
    "createImages(\n",
    "    df_m_2015_ns['Iss. Age'], df_m_2015_ns['Duration'], df_m_2015_ns['Mortality Rate per 1,000'], df_m_2015_ns['Iss. Age'],df_m_2015_ns['Duration'],\n",
    "    df_m_2015_sm['Iss. Age'], df_m_2015_sm['Duration'], df_m_2015_sm['Mortality Rate per 1,000'], df_m_2015_sm['Iss. Age'],df_m_2015_sm['Duration'],\n",
    "    low_top_right=60, high_top_right=81, \n",
    "    low_bot_left=40, high_bot_left=61,\n",
    "    low_bot_right=18, high_bot_right=41, \n",
    "    dur_low=0, dur_high=6,\n",
    "    azim_list=azim_list,\n",
    "    alpha=1,\n",
    "    folder='img4',\n",
    "    maj_title=\"Men: Smokers (Blue) and Non-Smokers (Red)\"\n",
    ")"
   ]
  },
  {
   "cell_type": "markdown",
   "id": "laughing-prophet",
   "metadata": {},
   "source": [
    "#### 2015 VBT Smoker Distinct - Women - NS and SM"
   ]
  },
  {
   "cell_type": "code",
   "execution_count": 20,
   "id": "eleven-flower",
   "metadata": {},
   "outputs": [],
   "source": [
    "createImages(\n",
    "    df_f_2015_ns['Iss. Age'], df_f_2015_ns['Duration'], df_f_2015_ns['Mortality Rate per 1,000'], df_f_2015_ns['Iss. Age'],df_f_2015_ns['Duration'],\n",
    "    df_f_2015_sm['Iss. Age'], df_f_2015_sm['Duration'], df_f_2015_sm['Mortality Rate per 1,000'], df_f_2015_sm['Iss. Age'],df_f_2015_sm['Duration'],\n",
    "    low_top_right=60, high_top_right=81, \n",
    "    low_bot_left=40, high_bot_left=61,\n",
    "    low_bot_right=18, high_bot_right=41, \n",
    "    dur_low=0, dur_high=6,\n",
    "    azim_list=azim_list,\n",
    "    alpha=1,\n",
    "    folder='img5',\n",
    "    maj_title=\"Women: Smokers (Blue) and Non-Smokers (Red)\"\n",
    ")"
   ]
  },
  {
   "cell_type": "markdown",
   "id": "secure-development",
   "metadata": {},
   "source": [
    "### Create GIF"
   ]
  },
  {
   "cell_type": "code",
   "execution_count": 21,
   "id": "necessary-evolution",
   "metadata": {},
   "outputs": [],
   "source": [
    "def createGif(infolder,outfolder,skip_n=1, fps=1):\n",
    "    filenames = os.listdir(infolder)\n",
    "    filenames = [file for file in filenames if '.jpg' in file]\n",
    "    filenames = [int(file.replace(\"_img.jpg\", \"\")) for file in filenames]\n",
    "    filenames.sort()\n",
    "    filenames = [str(file)+'_img.jpg' for file in filenames]\n",
    "    \n",
    "    images = []\n",
    "    for filename in filenames[::skip_n]: #Skip every other\n",
    "        images.append(imageio.imread(infolder + '/' + filename))\n",
    "    imageio.mimsave(outfolder + '/movie.gif', images, fps=fps)"
   ]
  },
  {
   "cell_type": "code",
   "execution_count": 33,
   "id": "immune-representative",
   "metadata": {},
   "outputs": [],
   "source": [
    "createGif('img1','gif1', skip_n=2, fps=3)"
   ]
  },
  {
   "cell_type": "code",
   "execution_count": 34,
   "id": "chubby-motor",
   "metadata": {},
   "outputs": [],
   "source": [
    "createGif('img2','gif2', skip_n=2, fps=3)"
   ]
  },
  {
   "cell_type": "code",
   "execution_count": 35,
   "id": "cooperative-assets",
   "metadata": {},
   "outputs": [],
   "source": [
    "createGif('img3','gif3', skip_n=2, fps=3)"
   ]
  },
  {
   "cell_type": "code",
   "execution_count": 36,
   "id": "spectacular-cleaning",
   "metadata": {},
   "outputs": [],
   "source": [
    "createGif('img4','gif4', skip_n=2, fps=3)"
   ]
  },
  {
   "cell_type": "code",
   "execution_count": 37,
   "id": "missing-soundtrack",
   "metadata": {},
   "outputs": [],
   "source": [
    "createGif('img5','gif5', skip_n=2, fps=3)"
   ]
  }
 ],
 "metadata": {
  "kernelspec": {
   "display_name": "Python 3",
   "language": "python",
   "name": "python3"
  },
  "language_info": {
   "codemirror_mode": {
    "name": "ipython",
    "version": 3
   },
   "file_extension": ".py",
   "mimetype": "text/x-python",
   "name": "python",
   "nbconvert_exporter": "python",
   "pygments_lexer": "ipython3",
   "version": "3.7.9"
  }
 },
 "nbformat": 4,
 "nbformat_minor": 5
}
