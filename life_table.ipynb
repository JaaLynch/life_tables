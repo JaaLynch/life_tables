{
 "cells": [
  {
   "cell_type": "markdown",
   "id": "exempt-transport",
   "metadata": {},
   "source": [
    "# Life Tables"
   ]
  },
  {
   "cell_type": "markdown",
   "id": "happy-facing",
   "metadata": {},
   "source": [
    "### Import Packages"
   ]
  },
  {
   "cell_type": "code",
   "execution_count": 1,
   "id": "ready-development",
   "metadata": {},
   "outputs": [],
   "source": [
    "#!conda install -c anaconda xlrd"
   ]
  },
  {
   "cell_type": "code",
   "execution_count": 2,
   "id": "literary-rolling",
   "metadata": {},
   "outputs": [],
   "source": [
    "import os\n",
    "import imageio\n",
    "import pandas as pd\n",
    "import numpy as np\n",
    "import matplotlib.pyplot as plt"
   ]
  },
  {
   "cell_type": "markdown",
   "id": "twenty-limitation",
   "metadata": {},
   "source": [
    "### Download, Load, and Restructure"
   ]
  },
  {
   "cell_type": "code",
   "execution_count": 3,
   "id": "electronic-berkeley",
   "metadata": {},
   "outputs": [],
   "source": [
    "#!wget 'https://www.soa.org/globalassets/assets/files/research/exp-study/2015-vbt-unismoke-alb-anb.xlsx'"
   ]
  },
  {
   "cell_type": "code",
   "execution_count": 4,
   "id": "unsigned-summit",
   "metadata": {},
   "outputs": [],
   "source": [
    "file = '2015-vbt-unismoke-alb-anb.xlsx'\n",
    "\n",
    "df_m = pd.read_excel(file, sheet_name = '2015 Male Unismoke ANB', skiprows=2)\n",
    "df_m = df_m[list(set(df_m.columns) - set(['Ult.','Att. Age']))]\n",
    "df_m = df_m.melt(id_vars = ['Iss. Age'], value_name='Mortality Rate per 1,000', var_name='Duration')\n",
    "\n",
    "df_f = pd.read_excel(file, sheet_name = '2015 Female Unismoke ANB', skiprows=2)\n",
    "df_f = df_f[list(set(df_f.columns) - set(['Ult.','Att. Age']))]\n",
    "df_f = df_f.melt(id_vars = ['Iss. Age'], value_name='Mortality Rate per 1,000', var_name='Duration')"
   ]
  },
  {
   "cell_type": "markdown",
   "id": "pursuant-coaching",
   "metadata": {},
   "source": [
    "### Graph"
   ]
  },
  {
   "cell_type": "code",
   "execution_count": 5,
   "id": "foreign-pizza",
   "metadata": {},
   "outputs": [],
   "source": [
    "def plotInteractions(x1_col, y1_col, z1_col, filt_col1, \n",
    "                     x2_col, y2_col, z2_col, filt_col2,\n",
    "                     azim=130, alpha=0.9, elev=10, outfile='test.jpg',\n",
    "                     low_top_right=0, high_top_right=100,\n",
    "                     low_bot_left=0, high_bot_left=100,\n",
    "                     low_bot_right=0, high_bot_right=100):\n",
    "\n",
    "    fig = plt.figure(constrained_layout=True, figsize=(14,10))\n",
    "    gs = fig.add_gridspec(2,2)\n",
    "\n",
    "    #--------------------------------------------------------\n",
    "    ax = fig.add_subplot(gs[0,0], projection='3d')\n",
    "    ax.set_title(\"All Ages and Durations\")\n",
    "    ax.set_xlabel(x1_col.name)\n",
    "    ax.set_ylabel(y1_col.name)\n",
    "    ax.set_zlabel(z1_col.name)\n",
    "    #ax.plot_trisurf(x1_col,  y1_col, z1_col, cmap='Reds', alpha=alpha)\n",
    "    ax.plot_trisurf(x2_col,  y2_col, z2_col, cmap='Blues', alpha=alpha)\n",
    "    ax.view_init(elev=elev, azim=azim) # Default: elev=None, azim=None\n",
    "    \n",
    "    #--------------------------------------------------------\n",
    "    low=low_top_right\n",
    "    high=high_top_right\n",
    "    ax = fig.add_subplot(gs[0,1], projection='3d')\n",
    "    \n",
    "    x1 = x1_col[(filt_col1 >= low) & (filt_col1 <= high)]\n",
    "    y1 = y1_col[(filt_col1 >= low) & (filt_col1 <= high)]\n",
    "    z1 = z1_col[(filt_col1 >= low) & (filt_col1 <= high)]\n",
    "    \n",
    "    x2 = x2_col[(filt_col2 >= low) & (filt_col2 <= high)]\n",
    "    y2 = y2_col[(filt_col2 >= low) & (filt_col2 <= high)]\n",
    "    z2 = z2_col[(filt_col2 >= low) & (filt_col2 <= high)]\n",
    "    \n",
    "    ax.set_title(filt_col1.name + \" between \" + str(low) + \" and \" + str(high-1))\n",
    "    ax.set_xlabel(x1_col.name)\n",
    "    ax.set_ylabel(y1_col.name)\n",
    "    ax.set_zlabel(z1_col.name)\n",
    "    #ax.plot_trisurf(x1,  y1, z1, cmap='Reds', alpha=alpha)\n",
    "    ax.plot_trisurf(x2,  y2, z2, cmap='Blues', alpha=alpha)\n",
    "    ax.view_init(elev=elev, azim=azim) # Default: elev=None, azim=None\n",
    "    \n",
    "    #--------------------------------------------------------\n",
    "    low=low_bot_left\n",
    "    high=high_bot_left\n",
    "    ax = fig.add_subplot(gs[1,0], projection='3d')\n",
    "    \n",
    "    x1 = x1_col[(filt_col1 >= low) & (filt_col1 <= high)]\n",
    "    y1 = y1_col[(filt_col1 >= low) & (filt_col1 <= high)]\n",
    "    z1 = z1_col[(filt_col1 >= low) & (filt_col1 <= high)]\n",
    "    \n",
    "    x2 = x2_col[(filt_col2 >= low) & (filt_col2 <= high)]\n",
    "    y2 = y2_col[(filt_col2 >= low) & (filt_col2 <= high)]\n",
    "    z2 = z2_col[(filt_col2 >= low) & (filt_col2 <= high)]\n",
    "    \n",
    "    ax.set_title(filt_col1.name + \" between \" + str(low) + \" and \" + str(high-1))\n",
    "    ax.set_xlabel(x1_col.name)\n",
    "    ax.set_ylabel(y1_col.name)\n",
    "    ax.set_zlabel(z1_col.name)\n",
    "    #ax.plot_trisurf(x1,  y1, z1, cmap='Reds', alpha=alpha)\n",
    "    ax.plot_trisurf(x2,  y2, z2, cmap='Blues', alpha=alpha)\n",
    "    ax.view_init(elev=elev, azim=azim) # Default: elev=None, azim=None\n",
    "    \n",
    "     #--------------------------------------------------------\n",
    "    low=low_bot_right\n",
    "    high=high_bot_right\n",
    "    ax = fig.add_subplot(gs[1,1], projection='3d')\n",
    "    \n",
    "    x1 = x1_col[(filt_col1 >= low) & (filt_col1 <= high)]\n",
    "    y1 = y1_col[(filt_col1 >= low) & (filt_col1 <= high)]\n",
    "    z1 = z1_col[(filt_col1 >= low) & (filt_col1 <= high)]\n",
    "    \n",
    "    x2 = x2_col[(filt_col2 >= low) & (filt_col2 <= high)]\n",
    "    y2 = y2_col[(filt_col2 >= low) & (filt_col2 <= high)]\n",
    "    z2 = z2_col[(filt_col2 >= low) & (filt_col2 <= high)]\n",
    "    \n",
    "    ax.set_title(filt_col1.name + \" between \" + str(low) + \" and \" + str(high-1))\n",
    "    ax.set_xlabel(x1_col.name)\n",
    "    ax.set_ylabel(y1_col.name)\n",
    "    ax.set_zlabel(z1_col.name)\n",
    "    #ax.plot_trisurf(x1,  y1, z1, cmap='Reds', alpha=alpha)\n",
    "    ax.plot_trisurf(x2,  y2, z2, cmap='Blues', alpha=alpha)\n",
    "    ax.view_init(elev=elev, azim=azim) # Default: elev=None, azim=None\n",
    "   \n",
    "\n",
    "\n",
    "    #--------------------------------------------------------\n",
    "    fig.savefig(outfile, bbox_inches='tight',dpi=50)\n",
    "    plt.close(fig)"
   ]
  },
  {
   "cell_type": "code",
   "execution_count": 6,
   "id": "processed-evaluation",
   "metadata": {},
   "outputs": [],
   "source": [
    "plotInteractions(\n",
    "    df_m['Iss. Age'], df_m['Duration'], df_m['Mortality Rate per 1,000'], df_m['Iss. Age'],\n",
    "    df_f['Iss. Age'], df_f['Duration'], df_f['Mortality Rate per 1,000'], df_f['Iss. Age'],\n",
    "    low_top_right=60, high_top_right=100, \n",
    "    low_bot_left=40, high_bot_left=61,\n",
    "    low_bot_right=0, high_bot_right=41,\n",
    "    outfile=''\n",
    ")"
   ]
  },
  {
   "cell_type": "markdown",
   "id": "smooth-enterprise",
   "metadata": {},
   "source": [
    "### Create Images"
   ]
  },
  {
   "cell_type": "code",
   "execution_count": 7,
   "id": "military-entertainment",
   "metadata": {},
   "outputs": [],
   "source": [
    "def createImages(x1_col, y1_col, z1_col, filt_col1,\n",
    "                 x2_col, y2_col, z2_col, filt_col2,\n",
    "                 low_top_right=0, high_top_right=100,\n",
    "                 low_bot_left=0, high_bot_left=100,\n",
    "                 low_bot_right=0, high_bot_right=100,\n",
    "                 folder='img', testmode=False, azim_list=[130], alpha=0.9, elev=None,):\n",
    "    i=0\n",
    "    for azim in azim_list:\n",
    "        outfile = folder +'/'+ str(i) + '_img.jpg'\n",
    "        plotInteractions(x1_col, y1_col, z1_col, filt_col1, \n",
    "                         x2_col, y2_col, z2_col, filt_col2,\n",
    "                        \n",
    "                         low_top_right=low_top_right, high_top_right=high_top_right,\n",
    "                         low_bot_left=low_bot_left, high_bot_left=high_bot_left,\n",
    "                         low_bot_right=low_bot_right, high_bot_right=high_bot_right,\n",
    "                         \n",
    "                         azim=azim, alpha=alpha, elev=None, outfile=outfile)\n",
    "        \n",
    "        i+=1\n",
    "        if testmode:\n",
    "            break\n",
    "    return"
   ]
  },
  {
   "cell_type": "code",
   "execution_count": 8,
   "id": "portable-accreditation",
   "metadata": {},
   "outputs": [],
   "source": [
    "azim_list = np.arange(-180, 192, 2).tolist()\n",
    "createImages(\n",
    "    df_m['Iss. Age'], df_m['Duration'], df_m['Mortality Rate per 1,000'], df_m['Iss. Age'],\n",
    "    df_f['Iss. Age'], df_f['Duration'], df_f['Mortality Rate per 1,000'], df_f['Iss. Age'],\n",
    "    azim_list=azim_list  ,\n",
    "    low_top_right=60, high_top_right=100, \n",
    "    low_bot_left=40, high_bot_left=61,\n",
    "    low_bot_right=0, high_bot_right=41,\n",
    "    alpha=1\n",
    ")"
   ]
  },
  {
   "cell_type": "markdown",
   "id": "elder-rendering",
   "metadata": {},
   "source": [
    "### Create GIF"
   ]
  },
  {
   "cell_type": "code",
   "execution_count": 9,
   "id": "continuous-search",
   "metadata": {},
   "outputs": [],
   "source": [
    "def createGif(infolder,outfolder,skip_n=1):\n",
    "    filenames = os.listdir(infolder)\n",
    "    filenames = [file for file in filenames if '.jpg' in file]\n",
    "    filenames = [int(file.replace(\"_img.jpg\", \"\")) for file in filenames]\n",
    "    filenames.sort()\n",
    "    filenames = [str(file)+'_img.jpg' for file in filenames]\n",
    "    \n",
    "    images = []\n",
    "    for filename in filenames[::skip_n]: #Skip every other\n",
    "        images.append(imageio.imread(infolder + '/' + filename))\n",
    "    imageio.mimsave(outfolder + '/movie.gif', images)"
   ]
  },
  {
   "cell_type": "code",
   "execution_count": 10,
   "id": "everyday-yeast",
   "metadata": {},
   "outputs": [],
   "source": [
    "createGif('img','gif',skip_n=1)"
   ]
  }
 ],
 "metadata": {
  "kernelspec": {
   "display_name": "Python 3",
   "language": "python",
   "name": "python3"
  },
  "language_info": {
   "codemirror_mode": {
    "name": "ipython",
    "version": 3
   },
   "file_extension": ".py",
   "mimetype": "text/x-python",
   "name": "python",
   "nbconvert_exporter": "python",
   "pygments_lexer": "ipython3",
   "version": "3.7.9"
  }
 },
 "nbformat": 4,
 "nbformat_minor": 5
}
